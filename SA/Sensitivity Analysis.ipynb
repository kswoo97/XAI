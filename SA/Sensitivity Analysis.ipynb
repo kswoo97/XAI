{
 "cells": [
  {
   "cell_type": "markdown",
   "metadata": {},
   "source": [
    "# Sensitivity Analysis"
   ]
  },
  {
   "cell_type": "markdown",
   "metadata": {},
   "source": [
    "### Yonsei App.Stat\n",
    "### Sunwoo Kim"
   ]
  },
  {
   "cell_type": "markdown",
   "metadata": {},
   "source": [
    "### Paper Source: https://arxiv.org/pdf/1312.6034.pdf"
   ]
  },
  {
   "cell_type": "markdown",
   "metadata": {},
   "source": [
    "기본적인 Gradient 기반 XAI 방법론인 Sensitivity analysis에 대해 알아보겠습니다.  \n",
    "단순히 input까지의 gradient를 계산하는 구조입니다. $ \\frac {\\partial{y}} {\\partial{x}}$  \n",
    "모델과 데이터는 다음과 같습니다.  \n",
    "1. Model : VGG16  \n",
    "2. Data : CIFAR 10"
   ]
  },
  {
   "cell_type": "markdown",
   "metadata": {},
   "source": [
    "## A. Image classification model Training"
   ]
  },
  {
   "cell_type": "markdown",
   "metadata": {},
   "source": [
    "### A.1. Importing packages and data"
   ]
  },
  {
   "cell_type": "code",
   "execution_count": 1,
   "metadata": {},
   "outputs": [],
   "source": [
    "import matplotlib.pyplot as plt\n",
    "import numpy as np\n",
    "\n",
    "import torch \n",
    "import torch.nn as nn\n",
    "import torchvision\n",
    "import torchvision.models as models\n",
    "import torchvision.transforms as transforms\n",
    "\n",
    "device = 'cuda' if torch.cuda.is_available() else 'cpu'\n",
    "\n",
    "torch.manual_seed(123)\n",
    "if device =='cuda':\n",
    "    torch.cuda.manual_seed_all(123)"
   ]
  },
  {
   "cell_type": "markdown",
   "metadata": {},
   "source": [
    "**Transform data (Normalization)**"
   ]
  },
  {
   "cell_type": "code",
   "execution_count": 2,
   "metadata": {},
   "outputs": [],
   "source": [
    "transform = transforms.Compose(\n",
    "    [transforms.ToTensor(),\n",
    "     transforms.Normalize((0.5, 0.5, 0.5), (0.5, 0.5, 0.5))])"
   ]
  },
  {
   "cell_type": "markdown",
   "metadata": {},
   "source": [
    "**Download data**"
   ]
  },
  {
   "cell_type": "code",
   "execution_count": 3,
   "metadata": {},
   "outputs": [
    {
     "name": "stdout",
     "output_type": "stream",
     "text": [
      "Files already downloaded and verified\n",
      "Files already downloaded and verified\n"
     ]
    }
   ],
   "source": [
    "batch_size = 512\n",
    "\n",
    "trainset = torchvision.datasets.CIFAR10(root='./data', train=True,\n",
    "                                        download=True, transform=transform)\n",
    "trainloader = torch.utils.data.DataLoader(trainset, batch_size=batch_size,\n",
    "                                          shuffle=True, num_workers=2)\n",
    "\n",
    "testset = torchvision.datasets.CIFAR10(root='./data', train=False,\n",
    "                                       download=True, transform=transform)\n",
    "testloader = torch.utils.data.DataLoader(testset, batch_size=4,\n",
    "                                         shuffle=False, num_workers=2)"
   ]
  },
  {
   "cell_type": "markdown",
   "metadata": {},
   "source": [
    "**CIFAR에는 총 10개의 class가 있으므로, 그것을 그대로 반영합니다.**"
   ]
  },
  {
   "cell_type": "code",
   "execution_count": 4,
   "metadata": {},
   "outputs": [],
   "source": [
    "classes = ('plane', 'car', 'bird', 'cat',\n",
    "           'deer', 'dog', 'frog', 'horse', 'ship', 'truck')"
   ]
  },
  {
   "cell_type": "markdown",
   "metadata": {},
   "source": [
    "**시각화에 사용할 보조 함수를 정의하고, 이미지를 확인합니다.**"
   ]
  },
  {
   "cell_type": "code",
   "execution_count": 5,
   "metadata": {},
   "outputs": [
    {
     "data": {
      "image/png": "[encoded data removed]",
      "text/plain": [
       "<Figure size 432x288 with 1 Axes>"
      ]
     },
     "metadata": {
      "needs_background": "light"
     },
     "output_type": "display_data"
    },
    {
     "name": "stdout",
     "output_type": "stream",
     "text": [
      "frog\n"
     ]
    }
   ],
   "source": [
    "def imshow(img):\n",
    "    img = img / 2 + 0.5     # unnormalize\n",
    "    npimg = img.numpy()\n",
    "    plt.imshow(np.transpose(npimg, (1, 2, 0)))\n",
    "    plt.show()\n",
    "\n",
    "img, label = trainset[0] \n",
    "imshow(img)\n",
    "print(classes[label])"
   ]
  },
  {
   "cell_type": "markdown",
   "metadata": {},
   "source": [
    "개구리가 상당히 멋있네요. 이제 모델을 불러오겠습니다."
   ]
  },
  {
   "cell_type": "markdown",
   "metadata": {},
   "source": [
    "### A.2. Define model"
   ]
  },
  {
   "cell_type": "markdown",
   "metadata": {},
   "source": [
    "Pytorch에 내장된 VGG architecture는 Image-Net 용으로 구현되어있고, FC layer에서 1000개의 output을 출력합니다. 따라서 CIFAR에 맞게 데이터를 변형하도록 하겠습니다.  \n",
    "VGG 모델은https://github.com/deeplearningzerotoall/PyTorch 을 참고하였습니다."
   ]
  },
  {
   "cell_type": "code",
   "execution_count": 6,
   "metadata": {},
   "outputs": [],
   "source": [
    "class VGG(nn.Module): \n",
    "    def __init__(self, features, num_classes=10, init_weights=True) :\n",
    "        super(VGG, self).__init__()\n",
    "        self.features = features # Convolution layers의 구조는 그대로 활용\n",
    "        self.classifier = torch.nn.Sequential( # \n",
    "            torch.nn.Linear(512*4*4, 4096), \n",
    "            torch.nn.ReLU(True), \n",
    "            torch.nn.Dropout(), \n",
    "            torch.nn.Linear(4096, num_classes)\n",
    "        ) \n",
    "        if init_weights : \n",
    "            self._initialize_weights()\n",
    "            \n",
    "    def forward(self, x) : \n",
    "        x = self.features(x)\n",
    "        x = x.view(x.size(0), -1)\n",
    "        x = self.classifier(x)\n",
    "        return x\n",
    "    \n",
    "    def _initialize_weights(self): # 각종 가중치 초기화!\n",
    "        for m in self.modules():\n",
    "            if isinstance(m, torch.nn.Conv2d):\n",
    "                torch.nn.init.kaiming_normal_(m.weight, \n",
    "                                              mode='fan_out', \n",
    "                                              nonlinearity='relu')\n",
    "                if m.bias is not None:\n",
    "                    torch.nn.init.constant_(m.bias, 0)\n",
    "            elif isinstance(m, torch.nn.BatchNorm2d):\n",
    "                torch.nn.init.constant_(m.weight, 1)\n",
    "                torch.nn.init.constant_(m.bias, 0)\n",
    "            elif isinstance(m, torch.nn.Linear):\n",
    "                torch.nn.init.normal_(m.weight, 0, 0.01)\n",
    "                torch.nn.init.constant_(m.bias, 0)"
   ]
  },
  {
   "cell_type": "code",
   "execution_count": 7,
   "metadata": {},
   "outputs": [],
   "source": [
    "vgg = models.vgg\n",
    "\n",
    "cfg = [32,32,'M', 64,64,128,128,128,'M',256,256,256,512,512,512,'M'] #13 + 3 =vgg16"
   ]
  },
  {
   "cell_type": "code",
   "execution_count": 8,
   "metadata": {},
   "outputs": [
    {
     "data": {
      "text/plain": [
       "VGG(\n",
       "  (features): Sequential(\n",
       "    (0): Conv2d(3, 32, kernel_size=(3, 3), stride=(1, 1), padding=(1, 1))\n",
       "    (1): ReLU(inplace=True)\n",
       "    (2): Conv2d(32, 32, kernel_size=(3, 3), stride=(1, 1), padding=(1, 1))\n",
       "    (3): ReLU(inplace=True)\n",
       "    (4): MaxPool2d(kernel_size=2, stride=2, padding=0, dilation=1, ceil_mode=False)\n",
       "    (5): Conv2d(32, 64, kernel_size=(3, 3), stride=(1, 1), padding=(1, 1))\n",
       "    (6): ReLU(inplace=True)\n",
       "    (7): Conv2d(64, 64, kernel_size=(3, 3), stride=(1, 1), padding=(1, 1))\n",
       "    (8): ReLU(inplace=True)\n",
       "    (9): Conv2d(64, 128, kernel_size=(3, 3), stride=(1, 1), padding=(1, 1))\n",
       "    (10): ReLU(inplace=True)\n",
       "    (11): Conv2d(128, 128, kernel_size=(3, 3), stride=(1, 1), padding=(1, 1))\n",
       "    (12): ReLU(inplace=True)\n",
       "    (13): Conv2d(128, 128, kernel_size=(3, 3), stride=(1, 1), padding=(1, 1))\n",
       "    (14): ReLU(inplace=True)\n",
       "    (15): MaxPool2d(kernel_size=2, stride=2, padding=0, dilation=1, ceil_mode=False)\n",
       "    (16): Conv2d(128, 256, kernel_size=(3, 3), stride=(1, 1), padding=(1, 1))\n",
       "    (17): ReLU(inplace=True)\n",
       "    (18): Conv2d(256, 256, kernel_size=(3, 3), stride=(1, 1), padding=(1, 1))\n",
       "    (19): ReLU(inplace=True)\n",
       "    (20): Conv2d(256, 256, kernel_size=(3, 3), stride=(1, 1), padding=(1, 1))\n",
       "    (21): ReLU(inplace=True)\n",
       "    (22): Conv2d(256, 512, kernel_size=(3, 3), stride=(1, 1), padding=(1, 1))\n",
       "    (23): ReLU(inplace=True)\n",
       "    (24): Conv2d(512, 512, kernel_size=(3, 3), stride=(1, 1), padding=(1, 1))\n",
       "    (25): ReLU(inplace=True)\n",
       "    (26): Conv2d(512, 512, kernel_size=(3, 3), stride=(1, 1), padding=(1, 1))\n",
       "    (27): ReLU(inplace=True)\n",
       "    (28): MaxPool2d(kernel_size=2, stride=2, padding=0, dilation=1, ceil_mode=False)\n",
       "  )\n",
       "  (classifier): Sequential(\n",
       "    (0): Linear(in_features=8192, out_features=4096, bias=True)\n",
       "    (1): ReLU(inplace=True)\n",
       "    (2): Dropout(p=0.5, inplace=False)\n",
       "    (3): Linear(in_features=4096, out_features=10, bias=True)\n",
       "  )\n",
       ")"
      ]
     },
     "execution_count": 8,
     "metadata": {},
     "output_type": "execute_result"
    }
   ],
   "source": [
    "vgg16= VGG(vgg.make_layers(cfg),\n",
    "           num_classes=10,\n",
    "           init_weights=True).to(device)\n",
    "vgg16"
   ]
  },
  {
   "cell_type": "markdown",
   "metadata": {},
   "source": [
    "모델의 차원이 잘 구축되었는지 확인해보도록 하겠습니다."
   ]
  },
  {
   "cell_type": "code",
   "execution_count": 9,
   "metadata": {},
   "outputs": [
    {
     "name": "stdout",
     "output_type": "stream",
     "text": [
      "tensor([[-5.0620e+35, -1.9894e+35, -2.7603e+35, -5.1475e+35, -8.8886e+35,\n",
      "          1.0428e+36, -1.1631e+36,  8.6441e+35, -9.8975e+35, -6.9707e+35]],\n",
      "       device='cuda:0', grad_fn=<AddmmBackward>)\n"
     ]
    }
   ],
   "source": [
    "a=torch.Tensor(1,3,32,32).to(device)\n",
    "out = vgg16(a)\n",
    "print(out)"
   ]
  },
  {
   "cell_type": "markdown",
   "metadata": {},
   "source": [
    "깔끔하게 class가 호출됩니다. 이를 활용하여 모델을 학습시키도록 하겠습니다."
   ]
  },
  {
   "cell_type": "markdown",
   "metadata": {},
   "source": [
    "### A.3. Model Training"
   ]
  },
  {
   "cell_type": "code",
   "execution_count": 10,
   "metadata": {},
   "outputs": [],
   "source": [
    "criterion = nn.CrossEntropyLoss().to(device)\n",
    "optimizer = torch.optim.SGD(vgg16.parameters(), lr = 0.005,momentum=0.9)\n",
    "lr_sche = torch.optim.lr_scheduler.StepLR(optimizer, step_size=5, gamma=0.9)"
   ]
  },
  {
   "cell_type": "code",
   "execution_count": 11,
   "metadata": {
    "scrolled": true
   },
   "outputs": [
    {
     "name": "stderr",
     "output_type": "stream",
     "text": [
      "C:\\Users\\kswoo\\Anaconda3\\envs\\sunwoo_env\\lib\\site-packages\\torch\\optim\\lr_scheduler.py:131: UserWarning: Detected call of `lr_scheduler.step()` before `optimizer.step()`. In PyTorch 1.1.0 and later, you should call them in the opposite order: `optimizer.step()` before `lr_scheduler.step()`.  Failure to do this will result in PyTorch skipping the first value of the learning rate schedule. See more details at https://pytorch.org/docs/stable/optim.html#how-to-adjust-learning-rate\n",
      "  warnings.warn(\"Detected call of `lr_scheduler.step()` before `optimizer.step()`. \"\n"
     ]
    },
    {
     "name": "stdout",
     "output_type": "stream",
     "text": [
      "[1,    30] loss: 2.300\n",
      "[1,    60] loss: 2.289\n",
      "[1,    90] loss: 2.189\n",
      "[2,    30] loss: 1.933\n",
      "[2,    60] loss: 1.807\n",
      "[2,    90] loss: 1.745\n",
      "[3,    30] loss: 1.635\n",
      "[3,    60] loss: 1.598\n",
      "[3,    90] loss: 1.522\n",
      "[4,    30] loss: 1.452\n",
      "[4,    60] loss: 1.403\n",
      "[4,    90] loss: 1.376\n",
      "[5,    30] loss: 1.304\n",
      "[5,    60] loss: 1.301\n",
      "[5,    90] loss: 1.243\n",
      "[6,    30] loss: 1.205\n",
      "[6,    60] loss: 1.175\n",
      "[6,    90] loss: 1.159\n",
      "[7,    30] loss: 1.107\n",
      "[7,    60] loss: 1.108\n",
      "[7,    90] loss: 1.076\n",
      "[8,    30] loss: 1.000\n",
      "[8,    60] loss: 1.050\n",
      "[8,    90] loss: 0.978\n",
      "[9,    30] loss: 0.959\n",
      "[9,    60] loss: 0.946\n",
      "[9,    90] loss: 0.944\n",
      "[10,    30] loss: 0.876\n",
      "[10,    60] loss: 0.902\n",
      "[10,    90] loss: 0.874\n",
      "[11,    30] loss: 0.819\n",
      "[11,    60] loss: 0.827\n",
      "[11,    90] loss: 0.827\n",
      "[12,    30] loss: 0.780\n",
      "[12,    60] loss: 0.792\n",
      "[12,    90] loss: 0.763\n",
      "[13,    30] loss: 0.714\n",
      "[13,    60] loss: 0.731\n",
      "[13,    90] loss: 0.753\n",
      "[14,    30] loss: 0.693\n",
      "[14,    60] loss: 0.699\n",
      "[14,    90] loss: 0.676\n",
      "[15,    30] loss: 0.633\n",
      "[15,    60] loss: 0.625\n",
      "[15,    90] loss: 0.638\n",
      "[16,    30] loss: 0.573\n",
      "[16,    60] loss: 0.575\n",
      "[16,    90] loss: 0.578\n",
      "[17,    30] loss: 0.523\n",
      "[17,    60] loss: 0.533\n",
      "[17,    90] loss: 0.535\n",
      "[18,    30] loss: 0.471\n",
      "[18,    60] loss: 0.488\n",
      "[18,    90] loss: 0.482\n",
      "[19,    30] loss: 0.431\n",
      "[19,    60] loss: 0.440\n",
      "[19,    90] loss: 0.463\n",
      "[20,    30] loss: 0.388\n",
      "[20,    60] loss: 0.393\n",
      "[20,    90] loss: 0.412\n",
      "[21,    30] loss: 0.324\n",
      "[21,    60] loss: 0.348\n",
      "[21,    90] loss: 0.370\n",
      "[22,    30] loss: 0.285\n",
      "[22,    60] loss: 0.314\n",
      "[22,    90] loss: 0.316\n",
      "[23,    30] loss: 0.256\n",
      "[23,    60] loss: 0.276\n",
      "[23,    90] loss: 0.302\n",
      "[24,    30] loss: 0.219\n",
      "[24,    60] loss: 0.225\n",
      "[24,    90] loss: 0.248\n",
      "[25,    30] loss: 0.192\n",
      "[25,    60] loss: 0.176\n",
      "[25,    90] loss: 0.194\n",
      "[26,    30] loss: 0.151\n",
      "[26,    60] loss: 0.165\n",
      "[26,    90] loss: 0.190\n",
      "[27,    30] loss: 0.113\n",
      "[27,    60] loss: 0.130\n",
      "[27,    90] loss: 0.153\n",
      "[28,    30] loss: 0.123\n",
      "[28,    60] loss: 0.123\n",
      "[28,    90] loss: 0.153\n",
      "[29,    30] loss: 0.126\n",
      "[29,    60] loss: 0.110\n",
      "[29,    90] loss: 0.111\n",
      "[30,    30] loss: 0.089\n",
      "[30,    60] loss: 0.100\n",
      "[30,    90] loss: 0.094\n",
      "[31,    30] loss: 0.073\n",
      "[31,    60] loss: 0.079\n",
      "[31,    90] loss: 0.080\n",
      "[32,    30] loss: 0.064\n",
      "[32,    60] loss: 0.065\n",
      "[32,    90] loss: 0.079\n",
      "[33,    30] loss: 0.059\n",
      "[33,    60] loss: 0.056\n",
      "[33,    90] loss: 0.067\n",
      "[34,    30] loss: 0.058\n",
      "[34,    60] loss: 0.056\n",
      "[34,    90] loss: 0.055\n",
      "[35,    30] loss: 0.046\n",
      "[35,    60] loss: 0.048\n",
      "[35,    90] loss: 0.053\n",
      "[36,    30] loss: 0.034\n",
      "[36,    60] loss: 0.036\n",
      "[36,    90] loss: 0.037\n",
      "[37,    30] loss: 0.037\n",
      "[37,    60] loss: 0.034\n",
      "[37,    90] loss: 0.034\n",
      "[38,    30] loss: 0.024\n",
      "[38,    60] loss: 0.029\n",
      "[38,    90] loss: 0.033\n",
      "[39,    30] loss: 0.029\n",
      "[39,    60] loss: 0.026\n",
      "[39,    90] loss: 0.030\n",
      "[40,    30] loss: 0.023\n",
      "[40,    60] loss: 0.029\n",
      "[40,    90] loss: 0.026\n",
      "[41,    30] loss: 0.021\n",
      "[41,    60] loss: 0.021\n",
      "[41,    90] loss: 0.028\n",
      "[42,    30] loss: 0.021\n",
      "[42,    60] loss: 0.023\n",
      "[42,    90] loss: 0.019\n",
      "[43,    30] loss: 0.018\n",
      "[43,    60] loss: 0.019\n",
      "[43,    90] loss: 0.020\n",
      "[44,    30] loss: 0.015\n",
      "[44,    60] loss: 0.015\n",
      "[44,    90] loss: 0.017\n",
      "[45,    30] loss: 0.018\n",
      "[45,    60] loss: 0.015\n",
      "[45,    90] loss: 0.011\n",
      "[46,    30] loss: 0.011\n",
      "[46,    60] loss: 0.015\n",
      "[46,    90] loss: 0.014\n",
      "[47,    30] loss: 0.014\n",
      "[47,    60] loss: 0.013\n",
      "[47,    90] loss: 0.013\n",
      "[48,    30] loss: 0.014\n",
      "[48,    60] loss: 0.014\n",
      "[48,    90] loss: 0.013\n",
      "[49,    30] loss: 0.011\n",
      "[49,    60] loss: 0.013\n",
      "[49,    90] loss: 0.008\n",
      "[50,    30] loss: 0.008\n",
      "[50,    60] loss: 0.008\n",
      "[50,    90] loss: 0.009\n",
      "[51,    30] loss: 0.009\n",
      "[51,    60] loss: 0.010\n",
      "[51,    90] loss: 0.008\n",
      "[52,    30] loss: 0.006\n",
      "[52,    60] loss: 0.007\n",
      "[52,    90] loss: 0.009\n",
      "[53,    30] loss: 0.008\n",
      "[53,    60] loss: 0.007\n",
      "[53,    90] loss: 0.007\n",
      "[54,    30] loss: 0.007\n",
      "[54,    60] loss: 0.007\n",
      "[54,    90] loss: 0.009\n",
      "[55,    30] loss: 0.006\n",
      "[55,    60] loss: 0.005\n",
      "[55,    90] loss: 0.005\n",
      "[56,    30] loss: 0.005\n",
      "[56,    60] loss: 0.005\n",
      "[56,    90] loss: 0.006\n",
      "[57,    30] loss: 0.004\n",
      "[57,    60] loss: 0.005\n",
      "[57,    90] loss: 0.005\n",
      "[58,    30] loss: 0.006\n",
      "[58,    60] loss: 0.005\n",
      "[58,    90] loss: 0.007\n",
      "[59,    30] loss: 0.005\n",
      "[59,    60] loss: 0.005\n",
      "[59,    90] loss: 0.006\n",
      "[60,    30] loss: 0.005\n",
      "[60,    60] loss: 0.004\n",
      "[60,    90] loss: 0.003\n",
      "Finished Training\n"
     ]
    }
   ],
   "source": [
    "epochs = 60\n",
    "\n",
    "for epoch in range(epochs):  # loop over the dataset multiple times\n",
    "    running_loss = 0.0\n",
    "    lr_sche.step()\n",
    "    for i, data in enumerate(trainloader, 0):\n",
    "        # get the inputs\n",
    "        inputs, labels = data\n",
    "        inputs = inputs.to(device)\n",
    "        labels = labels.to(device)\n",
    "\n",
    "        # zero the parameter gradients\n",
    "        optimizer.zero_grad()\n",
    "\n",
    "        # forward + backward + optimize\n",
    "        outputs = vgg16(inputs)\n",
    "        loss = criterion(outputs, labels)\n",
    "        loss.backward()\n",
    "        optimizer.step()\n",
    "\n",
    "        # print statistics\n",
    "        running_loss += loss.item()\n",
    "        if i % 30 == 29:    # print every 30 mini-batches\n",
    "            print('[%d, %5d] loss: %.3f' %\n",
    "                  (epoch + 1, i + 1, running_loss / 30))\n",
    "            running_loss = 0.0\n",
    "        \n",
    "print('Finished Training')"
   ]
  },
  {
   "cell_type": "code",
   "execution_count": 13,
   "metadata": {},
   "outputs": [],
   "source": [
    "torch.save(vgg16.state_dict(), 'VGG_cifar10.pt')"
   ]
  },
  {
   "cell_type": "markdown",
   "metadata": {},
   "source": [
    "### A.4. 성능평가"
   ]
  },
  {
   "cell_type": "markdown",
   "metadata": {},
   "source": [
    "Train 출력이 다소 길기때문에 모델의 가중치를 저장해 놓았습니다. 다시 불러오도록 해보겠습니다."
   ]
  },
  {
   "cell_type": "code",
   "execution_count": 24,
   "metadata": {},
   "outputs": [],
   "source": [
    "#vgg16 = torch.load(\"VGG_cifar10.pt\")"
   ]
  },
  {
   "cell_type": "code",
   "execution_count": 14,
   "metadata": {},
   "outputs": [
    {
     "data": {
      "image/png": "[encoded data removed]",
      "text/plain": [
       "<Figure size 432x288 with 1 Axes>"
      ]
     },
     "metadata": {
      "needs_background": "light"
     },
     "output_type": "display_data"
    },
    {
     "name": "stdout",
     "output_type": "stream",
     "text": [
      "GroundTruth:    cat  ship  ship plane\n"
     ]
    }
   ],
   "source": [
    "dataiter = iter(testloader)\n",
    "images, labels = dataiter.next()\n",
    "\n",
    "# print images\n",
    "imshow(torchvision.utils.make_grid(images))\n",
    "print('GroundTruth: ', ' '.join('%5s' % classes[labels[j]] for j in range(4)))"
   ]
  },
  {
   "cell_type": "code",
   "execution_count": 15,
   "metadata": {},
   "outputs": [
    {
     "name": "stdout",
     "output_type": "stream",
     "text": [
      "Predicted:    cat  ship  ship plane\n"
     ]
    }
   ],
   "source": [
    "vgg16 = vgg16.to(device)\n",
    "outputs = vgg16(images.to(device))\n",
    "\n",
    "_, predicted = torch.max(outputs, 1)\n",
    "\n",
    "print('Predicted: ', ' '.join('%5s' % classes[predicted[j]]\n",
    "                              for j in range(4)))"
   ]
  },
  {
   "cell_type": "markdown",
   "metadata": {},
   "source": [
    "우선 몇가지 case에 대해서 적용한 결과는 4개 중 3개를 맞췄습니다.  \n",
    "모든 test data에 대해서 적용해보도록 하겠습니다."
   ]
  },
  {
   "cell_type": "code",
   "execution_count": 16,
   "metadata": {},
   "outputs": [
    {
     "name": "stderr",
     "output_type": "stream",
     "text": [
      "100%|█████████████████████████████████████████████████████████████████████████████| 2500/2500 [00:10<00:00, 245.60it/s]"
     ]
    },
    {
     "name": "stdout",
     "output_type": "stream",
     "text": [
      "Accuracy of the network on the 10000 test images: 76 %\n"
     ]
    },
    {
     "name": "stderr",
     "output_type": "stream",
     "text": [
      "\n"
     ]
    }
   ],
   "source": [
    "correct = 0\n",
    "total = 0\n",
    "\n",
    "from tqdm import tqdm\n",
    "\n",
    "with torch.no_grad():\n",
    "    for data in tqdm(testloader):\n",
    "        images, labels = data\n",
    "        images = images.to(device)\n",
    "        labels = labels.to(device)\n",
    "        outputs = vgg16(images)\n",
    "        \n",
    "        _, predicted = torch.max(outputs.data, 1)\n",
    "        \n",
    "        total += labels.size(0)\n",
    "        \n",
    "        correct += (predicted == labels).sum().item()\n",
    "\n",
    "print('Accuracy of the network on the 10000 test images: %d %%' % (\n",
    "    100 * correct / total))"
   ]
  },
  {
   "cell_type": "markdown",
   "metadata": {},
   "source": [
    "전체 모델의 성능이 썩 좋지만은 않은 것 같습니다."
   ]
  },
  {
   "cell_type": "markdown",
   "metadata": {},
   "source": [
    "## B. Sensitivity analysis"
   ]
  },
  {
   "cell_type": "markdown",
   "metadata": {},
   "source": [
    "본격적으로 모델에 대한 explanation을 제시해보도록 하겠습니다.  \n",
    "활용할 방법은 앞에서 언급했던 gradient를 계산하는 sensitivity analysis입니다.  \n",
    "Gradient를 계산하여, 그것을 히트맵으로 놓고 input image에 씌우도록 하겠습니다."
   ]
  },
  {
   "cell_type": "markdown",
   "metadata": {},
   "source": [
    "### B.1. Gradient 계산"
   ]
  },
  {
   "cell_type": "markdown",
   "metadata": {},
   "source": [
    "이미지에 대해서 gradient를 계산해주는 함수와 salinecy map을 생성하는 함수를 정의합니다.   \n",
    "Saliency Map을 생성하는 코드는 아래 사이트를 참고하였습니다.  \n",
    "https://towardsdatascience.com/saliency-map-using-pytorch-68270fe45e80"
   ]
  },
  {
   "cell_type": "code",
   "execution_count": 111,
   "metadata": {},
   "outputs": [],
   "source": [
    "def get_gradient(model, img, target_index) : \n",
    "    model.eval()\n",
    "    img = img.requires_grad_(True)\n",
    "    outs = model(img.reshape(1,3,32,32).to(device))\n",
    "    loss = outs[0, target_index]\n",
    "    loss.backward()\n",
    "    gradient = img.grad.abs().numpy() \n",
    "    final_grad = np.max(gradient, 0) # RGB 최댓값만 산출!\n",
    "    return final_grad\n",
    "\n",
    "def return_saliency_map(orig_image, gradient) : \n",
    "    fig, ax = plt.subplots(1, 2)\n",
    "    ax[0].imshow(orig_image.cpu().detach().numpy().transpose(1, 2, 0))\n",
    "    ax[0].axis('off')\n",
    "    ax[1].imshow(gradient, cmap='hot')\n",
    "    ax[1].axis('off')\n",
    "    plt.tight_layout()\n",
    "    fig.suptitle('Original Image and Saliency Map')\n",
    "    plt.show()"
   ]
  },
  {
   "cell_type": "code",
   "execution_count": 112,
   "metadata": {},
   "outputs": [
    {
     "name": "stdout",
     "output_type": "stream",
     "text": [
      "Correspond label is 8\n"
     ]
    },
    {
     "data": {
      "image/png": "[encoded data removed]",
      "text/plain": [
       "<Figure size 432x288 with 1 Axes>"
      ]
     },
     "metadata": {
      "needs_background": "light"
     },
     "output_type": "display_data"
    }
   ],
   "source": [
    "# 어떤 이미지인지 확인!\n",
    "test_image, test_label = testset[1]\n",
    "print(\"Correspond label is {0}\".format(test_label))\n",
    "imshow(test_image)\n",
    "\n",
    "# 산출된 gradient를 할당!\n",
    "final_grad = get_gradient(model = vgg16, \n",
    "            img = test_image, \n",
    "            target_index=test_label)"
   ]
  },
  {
   "cell_type": "markdown",
   "metadata": {},
   "source": [
    "  우리는 gradient의 최댓값만 필요하기 때문에 RGB 중 최대의 gradient만 각 출력합니다.  \n",
    "이를 활용해서 Saliency Map을 그려보겠습니다."
   ]
  },
  {
   "cell_type": "markdown",
   "metadata": {},
   "source": [
    "### B.2. Saliency Map"
   ]
  },
  {
   "cell_type": "markdown",
   "metadata": {},
   "source": [
    "최종적으로 Map을 그려보도록 하겠습니다.  "
   ]
  },
  {
   "cell_type": "code",
   "execution_count": 110,
   "metadata": {},
   "outputs": [
    {
     "name": "stderr",
     "output_type": "stream",
     "text": [
      "Clipping input data to the valid range for imshow with RGB data ([0..1] for floats or [0..255] for integers).\n"
     ]
    },
    {
     "data": {
      "image/png": "[encoded data removed]",
      "text/plain": [
       "<Figure size 432x288 with 2 Axes>"
      ]
     },
     "metadata": {
      "needs_background": "light"
     },
     "output_type": "display_data"
    }
   ],
   "source": [
    "return_saliency_map(orig_image = test_image, \n",
    "                   gradient = final_grad)"
   ]
  },
  {
   "cell_type": "markdown",
   "metadata": {},
   "source": [
    "1시방향과 5시 방향의 물과 하늘이 있는 부분은 상대적으로 gradient가 적게 산출되었고,  \n",
    "중앙의 배가 포착된 부분은 gradient가 큰것을 확인할 수 있습니다.  \n",
    "그러나 아주 명확하지는 않기때문에 다른 image도 확인해보도록 하겠습니다."
   ]
  },
  {
   "cell_type": "code",
   "execution_count": 116,
   "metadata": {},
   "outputs": [
    {
     "name": "stdout",
     "output_type": "stream",
     "text": [
      "Correspond label is 6\n"
     ]
    },
    {
     "data": {
      "image/png": "[encoded data removed]",
      "text/plain": [
       "<Figure size 432x288 with 1 Axes>"
      ]
     },
     "metadata": {
      "needs_background": "light"
     },
     "output_type": "display_data"
    }
   ],
   "source": [
    "# 어떤 이미지인지 확인!\n",
    "test_image, test_label = testset[4]\n",
    "print(\"Correspond label is {0}\".format(test_label))\n",
    "imshow(test_image)\n",
    "\n",
    "# 산출된 gradient를 할당!\n",
    "final_grad = get_gradient(model = vgg16, \n",
    "            img = test_image, \n",
    "            target_index=test_label)"
   ]
  },
  {
   "cell_type": "code",
   "execution_count": 117,
   "metadata": {},
   "outputs": [
    {
     "name": "stderr",
     "output_type": "stream",
     "text": [
      "Clipping input data to the valid range for imshow with RGB data ([0..1] for floats or [0..255] for integers).\n"
     ]
    },
    {
     "data": {
      "image/png": "[encoded data removed]",
      "text/plain": [
       "<Figure size 432x288 with 2 Axes>"
      ]
     },
     "metadata": {
      "needs_background": "light"
     },
     "output_type": "display_data"
    }
   ],
   "source": [
    "return_saliency_map(orig_image = test_image, \n",
    "                   gradient = final_grad)"
   ]
  },
  {
   "cell_type": "markdown",
   "metadata": {},
   "source": [
    "개구리 예제를 확인해보니 확실히 개구리가 포착된 부분의 gradient가 크게 산출되는것을  \n",
    "한눈에 확인할 수 있습니다."
   ]
  }
 ],
 "metadata": {
  "kernelspec": {
   "display_name": "sunwoo_env",
   "language": "python",
   "name": "sunwoo_env"
  },
  "language_info": {
   "codemirror_mode": {
    "name": "ipython",
    "version": 3
   },
   "file_extension": ".py",
   "mimetype": "text/x-python",
   "name": "python",
   "nbconvert_exporter": "python",
   "pygments_lexer": "ipython3",
   "version": "3.8.5"
  },
  "toc": {
   "base_numbering": 1,
   "nav_menu": {},
   "number_sections": false,
   "sideBar": true,
   "skip_h1_title": false,
   "title_cell": "Table of Contents",
   "title_sidebar": "Contents",
   "toc_cell": false,
   "toc_position": {
    "height": "calc(100% - 180px)",
    "left": "10px",
    "top": "150px",
    "width": "209.774px"
   },
   "toc_section_display": true,
   "toc_window_display": true
  }
 },
 "nbformat": 4,
 "nbformat_minor": 4
}
